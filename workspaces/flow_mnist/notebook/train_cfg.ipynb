{
 "cells": [
  {
   "cell_type": "code",
   "execution_count": 63,
   "id": "e787212b",
   "metadata": {},
   "outputs": [
    {
     "name": "stdout",
     "output_type": "stream",
     "text": [
      "The autoreload extension is already loaded. To reload it, use:\n",
      "  %reload_ext autoreload\n"
     ]
    }
   ],
   "source": [
    "%reload_ext autoreload\n",
    "%load_ext autoreload\n",
    "%autoreload 2"
   ]
  },
  {
   "cell_type": "code",
   "execution_count": 64,
   "id": "90124e5e",
   "metadata": {},
   "outputs": [],
   "source": [
    "import os\n",
    "import torch\n",
    "\n",
    "from dataclasses import asdict\n",
    "\n",
    "from flow_mnist.data import MNISTDataset\n",
    "from flow_mnist.config import load_config"
   ]
  },
  {
   "cell_type": "code",
   "execution_count": 65,
   "id": "20c936db",
   "metadata": {},
   "outputs": [],
   "source": [
    "torch.manual_seed(42)\n",
    "os.chdir(\"..\") if not os.path.exists(\"config.yaml\") else None\n",
    "device = torch.device('cuda:0' if torch.cuda.is_available() else 'cpu')"
   ]
  },
  {
   "cell_type": "code",
   "execution_count": 66,
   "id": "a6c999c8",
   "metadata": {},
   "outputs": [],
   "source": [
    "conf = load_config('config.yaml')\n",
    "dataset = MNISTDataset(**asdict(conf.data))"
   ]
  }
 ],
 "metadata": {
  "language_info": {
   "name": "python"
  }
 },
 "nbformat": 4,
 "nbformat_minor": 5
}
