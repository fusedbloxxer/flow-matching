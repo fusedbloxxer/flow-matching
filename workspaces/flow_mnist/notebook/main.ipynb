{
 "cells": [
  {
   "cell_type": "code",
   "execution_count": 23,
   "id": "1d892ce5",
   "metadata": {},
   "outputs": [
    {
     "name": "stdout",
     "output_type": "stream",
     "text": [
      "The autoreload extension is already loaded. To reload it, use:\n",
      "  %reload_ext autoreload\n"
     ]
    }
   ],
   "source": [
    "%reload_ext autoreload\n",
    "%load_ext autoreload\n",
    "%autoreload 2"
   ]
  },
  {
   "cell_type": "markdown",
   "id": "7a5fd08f",
   "metadata": {},
   "source": [
    "Import Libraries"
   ]
  },
  {
   "cell_type": "code",
   "execution_count": 24,
   "id": "cc8281d0",
   "metadata": {},
   "outputs": [],
   "source": [
    "import os\n",
    "\n",
    "from typing import cast\n",
    "from pathlib import Path\n",
    "from omegaconf import OmegaConf, SCMode\n",
    "from dataclasses import dataclass, asdict\n",
    "\n",
    "from flow_mnist.data import MNISTDataset\n",
    "from flow_mnist.config import load_config"
   ]
  },
  {
   "cell_type": "markdown",
   "id": "ee008ec2",
   "metadata": {},
   "source": [
    "Environment"
   ]
  },
  {
   "cell_type": "code",
   "execution_count": 25,
   "id": "a4c87435",
   "metadata": {},
   "outputs": [],
   "source": [
    "os.chdir(\"..\") if not os.path.exists(\"config.yaml\") else None"
   ]
  },
  {
   "cell_type": "markdown",
   "id": "c03178b2",
   "metadata": {},
   "source": [
    "Project"
   ]
  },
  {
   "cell_type": "code",
   "execution_count": 26,
   "id": "45284069",
   "metadata": {},
   "outputs": [],
   "source": [
    "config = load_config(\"config.yaml\")\n",
    "data = MNISTDataset(**asdict(config.data))"
   ]
  }
 ],
 "metadata": {
  "kernelspec": {
   "display_name": ".venv",
   "language": "python",
   "name": "python3"
  },
  "language_info": {
   "codemirror_mode": {
    "name": "ipython",
    "version": 3
   },
   "file_extension": ".py",
   "mimetype": "text/x-python",
   "name": "python",
   "nbconvert_exporter": "python",
   "pygments_lexer": "ipython3",
   "version": "3.13.2"
  }
 },
 "nbformat": 4,
 "nbformat_minor": 5
}
