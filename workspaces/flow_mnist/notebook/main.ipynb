{
 "cells": [
  {
   "cell_type": "code",
   "execution_count": 17,
   "id": "1d892ce5",
   "metadata": {},
   "outputs": [
    {
     "name": "stdout",
     "output_type": "stream",
     "text": [
      "The autoreload extension is already loaded. To reload it, use:\n",
      "  %reload_ext autoreload\n"
     ]
    }
   ],
   "source": [
    "%load_ext autoreload\n",
    "%autoreload 2\n",
    "%reload_ext autoreload"
   ]
  },
  {
   "cell_type": "code",
   "execution_count": 18,
   "id": "cc8281d0",
   "metadata": {},
   "outputs": [],
   "source": [
    "import os\n",
    "\n",
    "from typing import cast\n",
    "from pathlib import Path\n",
    "from omegaconf import OmegaConf, SCMode\n",
    "from dataclasses import dataclass, asdict"
   ]
  },
  {
   "cell_type": "code",
   "execution_count": 19,
   "id": "0895195f",
   "metadata": {},
   "outputs": [],
   "source": [
    "from flow_mnist.data import MNISTDataset\n",
    "from flow_mnist.config import load_config"
   ]
  },
  {
   "cell_type": "code",
   "execution_count": 20,
   "id": "45284069",
   "metadata": {},
   "outputs": [],
   "source": [
    "root = Path(os.path.abspath(\"..\"))\n",
    "config = load_config(root / \"config.yaml\")"
   ]
  },
  {
   "cell_type": "code",
   "execution_count": 21,
   "id": "8b1c9db1",
   "metadata": {},
   "outputs": [],
   "source": [
    "dataset = MNISTDataset(**asdict(config.data))"
   ]
  }
 ],
 "metadata": {
  "kernelspec": {
   "display_name": ".venv",
   "language": "python",
   "name": "python3"
  },
  "language_info": {
   "codemirror_mode": {
    "name": "ipython",
    "version": 3
   },
   "file_extension": ".py",
   "mimetype": "text/x-python",
   "name": "python",
   "nbconvert_exporter": "python",
   "pygments_lexer": "ipython3",
   "version": "3.13.2"
  }
 },
 "nbformat": 4,
 "nbformat_minor": 5
}
