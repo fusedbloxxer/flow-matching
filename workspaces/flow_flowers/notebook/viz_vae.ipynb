{
 "cells": [
  {
   "cell_type": "code",
   "execution_count": 6,
   "id": "4076f6b9",
   "metadata": {},
   "outputs": [
    {
     "name": "stdout",
     "output_type": "stream",
     "text": [
      "The autoreload extension is already loaded. To reload it, use:\n",
      "  %reload_ext autoreload\n"
     ]
    }
   ],
   "source": [
    "%load_ext autoreload\n",
    "%autoreload 2"
   ]
  },
  {
   "cell_type": "code",
   "execution_count": 7,
   "id": "723865cf",
   "metadata": {},
   "outputs": [],
   "source": [
    "from dataclasses import asdict\n",
    "\n",
    "import torch"
   ]
  },
  {
   "cell_type": "code",
   "execution_count": 8,
   "id": "f0c324d4",
   "metadata": {},
   "outputs": [],
   "source": [
    "from flow_flowers.config import Config\n",
    "from flow_flowers.model import AutoEncoder\n",
    "from flow_flowers.utils import find_and_chdir"
   ]
  },
  {
   "cell_type": "code",
   "execution_count": 9,
   "id": "01719fcd",
   "metadata": {},
   "outputs": [],
   "source": [
    "torch.manual_seed(42)\n",
    "find_and_chdir(\"config.yaml\")\n",
    "device = torch.device(\"cuda:0\" if torch.cuda.is_available() else \"cpu\")"
   ]
  },
  {
   "cell_type": "code",
   "execution_count": 10,
   "id": "80afd26f",
   "metadata": {},
   "outputs": [],
   "source": [
    "config = Config.init(\"config.yaml\")\n",
    "vae = AutoEncoder(**asdict(config.model.autoencoder))"
   ]
  }
 ],
 "metadata": {
  "kernelspec": {
   "display_name": "flow-matching",
   "language": "python",
   "name": "python3"
  },
  "language_info": {
   "codemirror_mode": {
    "name": "ipython",
    "version": 3
   },
   "file_extension": ".py",
   "mimetype": "text/x-python",
   "name": "python",
   "nbconvert_exporter": "python",
   "pygments_lexer": "ipython3",
   "version": "3.13.2"
  }
 },
 "nbformat": 4,
 "nbformat_minor": 5
}
