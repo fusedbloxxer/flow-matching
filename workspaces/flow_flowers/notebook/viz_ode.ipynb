{
 "cells": [
  {
   "cell_type": "markdown",
   "id": "4f1aa85b",
   "metadata": {},
   "source": [
    "### Imports"
   ]
  },
  {
   "cell_type": "code",
   "execution_count": null,
   "id": "62900210",
   "metadata": {},
   "outputs": [],
   "source": [
    "%load_ext autoreload\n",
    "%autoreload 2"
   ]
  },
  {
   "cell_type": "code",
   "execution_count": null,
   "id": "69064b71",
   "metadata": {},
   "outputs": [],
   "source": [
    "import os\n",
    "\n",
    "from dataclasses import asdict\n",
    "from typing import cast\n",
    "\n",
    "import matplotlib.pyplot as plt\n",
    "import torch\n",
    "\n",
    "from einops import rearrange\n",
    "from torch import Tensor\n",
    "from torchvision.utils import make_grid\n",
    "\n",
    "from flow_flowers.config import Config\n",
    "from flow_flowers.data import FlowersDataset\n",
    "from flow_flowers.model import AutoEncoder, DiCo, DiCoDDT\n",
    "from flow_flowers.ode import ODE\n",
    "from flow_flowers.utils import batch_op, find_and_chdir, norm2img, params, set_manual_seed"
   ]
  },
  {
   "cell_type": "markdown",
   "id": "77217d81",
   "metadata": {},
   "source": [
    "### Environment"
   ]
  },
  {
   "cell_type": "code",
   "execution_count": null,
   "id": "996810e7",
   "metadata": {},
   "outputs": [],
   "source": [
    "find_and_chdir(\"config.yaml\")\n",
    "config = Config.init(\"config.yaml\")\n",
    "\n",
    "set_manual_seed(config.base.seed)\n",
    "dataset = FlowersDataset(path=config.data.path)\n",
    "device = torch.device(\"cuda:1\" if torch.cuda.is_available() else \"cpu\")"
   ]
  },
  {
   "cell_type": "markdown",
   "id": "58bfc159",
   "metadata": {},
   "source": [
    "### Model Initializaiton"
   ]
  },
  {
   "cell_type": "code",
   "execution_count": null,
   "id": "fdb26494",
   "metadata": {},
   "outputs": [],
   "source": [
    "vae = AutoEncoder(**asdict(config.model.autoencoder)).to(device)\n",
    "vae.requires_grad_(False)\n",
    "vae.eval()\n",
    "\n",
    "\n",
    "if config.model.ddt:\n",
    "    u_theta = DiCoDDT(**asdict(config.model.vector_field), **asdict(config.model.ddt)).to(device)\n",
    "else:\n",
    "    u_theta = DiCo(**asdict(config.model.vector_field)).to(device)\n",
    "\n",
    "\n",
    "u_theta_state_dict = torch.load(os.path.join(\"ckpt\", \"dico_ddt_cfm_aug_step_10000.pt\"))\n",
    "u_theta.load_state_dict(u_theta_state_dict)\n",
    "u_theta.requires_grad_(False)\n",
    "u_theta.eval();"
   ]
  },
  {
   "cell_type": "code",
   "execution_count": null,
   "id": "8fac6d00",
   "metadata": {},
   "outputs": [],
   "source": [
    "params(vae)\n",
    "params(u_theta)"
   ]
  },
  {
   "cell_type": "code",
   "execution_count": null,
   "id": "dc7c7b0b",
   "metadata": {},
   "outputs": [],
   "source": [
    "bs = 4\n",
    "timesteps = 1024\n",
    "y = torch.randint(low=0, high=config.model.vector_field.n_class, size=(bs,), device=device)\n",
    "y = torch.arange(0, 102, device=device)\n",
    "y = rearrange(y, \"b -> b 1 1 1\")  # type: ignore\n",
    "bs = y.size(0)\n",
    "\n",
    "t = torch.linspace(0, 1, timesteps, device=device)\n",
    "x_0_latent = torch.randn((bs, 32, 8, 8), device=device)"
   ]
  },
  {
   "cell_type": "code",
   "execution_count": null,
   "id": "0ce9ce35",
   "metadata": {},
   "outputs": [],
   "source": [
    "ode = ODE(pad_idx=u_theta.y_embedder.pad_idx, u_theta=u_theta)\n",
    "x_1_latent = ode.sample(x_t=x_0_latent, t=t, y=y, w=1.25)\n",
    "\n",
    "x_1_latent = torch.cat([x_1_latent[:: timesteps // 8], x_1_latent[-1].unsqueeze(0)], dim=0)\n",
    "x_1_latent = rearrange(x_1_latent, \"t y c h w -> (y t) c h w\")\n",
    "x_1_latent = cast(Tensor, x_1_latent)\n",
    "\n",
    "x_1 = norm2img(batch_op(x_1_latent, bs=64, op=lambda x: vae.decode(x))).cpu()"
   ]
  },
  {
   "cell_type": "code",
   "execution_count": null,
   "id": "3a42aa04",
   "metadata": {},
   "outputs": [
    {
     "ename": "",
     "evalue": "",
     "output_type": "error",
     "traceback": [
      "\u001b[1;31mThe Kernel crashed while executing code in the current cell or a previous cell. \n",
      "\u001b[1;31mPlease review the code in the cell(s) to identify a possible cause of the failure. \n",
      "\u001b[1;31mClick <a href='https://aka.ms/vscodeJupyterKernelCrash'>here</a> for more info. \n",
      "\u001b[1;31mView Jupyter <a href='command:jupyter.viewOutput'>log</a> for further details."
     ]
    }
   ],
   "source": [
    "x_grid = make_grid(x_1, nrow=x_1.shape[0] // bs).permute((1, 2, 0))\n",
    "plt.figure(figsize=(20, 160))\n",
    "plt.imshow(x_grid)"
   ]
  }
 ],
 "metadata": {
  "kernelspec": {
   "display_name": "flow-matching (3.13.2)",
   "language": "python",
   "name": "python3"
  },
  "language_info": {
   "codemirror_mode": {
    "name": "ipython",
    "version": 3
   },
   "file_extension": ".py",
   "mimetype": "text/x-python",
   "name": "python",
   "nbconvert_exporter": "python",
   "pygments_lexer": "ipython3",
   "version": "3.13.2"
  }
 },
 "nbformat": 4,
 "nbformat_minor": 5
}
